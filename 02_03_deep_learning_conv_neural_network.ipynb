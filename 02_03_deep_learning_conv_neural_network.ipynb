{
 "cells": [
  {
   "cell_type": "markdown",
   "metadata": {},
   "source": [
    "# Your first convolutional neural network"
   ]
  },
  {
   "cell_type": "markdown",
   "metadata": {},
   "source": [
    "# imports"
   ]
  },
  {
   "cell_type": "code",
   "execution_count": 1,
   "metadata": {},
   "outputs": [
    {
     "name": "stderr",
     "output_type": "stream",
     "text": [
      "Using TensorFlow backend.\n"
     ]
    }
   ],
   "source": [
    "import numpy as np\n",
    "\n",
    "from keras.layers import Input, Flatten, Dense, Conv2D, BatchNormalization, LeakyReLU, Dropout, Activation\n",
    "from keras.models import Model\n",
    "from keras.optimizers import Adam\n",
    "from keras.utils import to_categorical\n",
    "import keras.backend as K \n",
    "\n",
    "from keras.datasets import cifar10"
   ]
  },
  {
   "cell_type": "code",
   "execution_count": 2,
   "metadata": {},
   "outputs": [],
   "source": [
    "import tensorflow as tf\n",
    "tf.config.experimental.set_memory_growth(tf.config.experimental.list_physical_devices('GPU')[0], True)"
   ]
  },
  {
   "cell_type": "markdown",
   "metadata": {},
   "source": [
    "# data"
   ]
  },
  {
   "cell_type": "code",
   "execution_count": 3,
   "metadata": {},
   "outputs": [],
   "source": [
    "NUM_CLASSES = 10"
   ]
  },
  {
   "cell_type": "code",
   "execution_count": 4,
   "metadata": {},
   "outputs": [],
   "source": [
    "(x_train, y_train), (x_test, y_test) = cifar10.load_data()"
   ]
  },
  {
   "cell_type": "code",
   "execution_count": 5,
   "metadata": {},
   "outputs": [],
   "source": [
    "x_train = x_train.astype('float32') / 255.0\n",
    "x_test = x_test.astype('float32') / 255.0\n",
    "\n",
    "y_train = to_categorical(y_train, NUM_CLASSES)\n",
    "y_test = to_categorical(y_test, NUM_CLASSES)"
   ]
  },
  {
   "cell_type": "code",
   "execution_count": 6,
   "metadata": {},
   "outputs": [
    {
     "data": {
      "text/plain": [
       "0.36862746"
      ]
     },
     "execution_count": 6,
     "metadata": {},
     "output_type": "execute_result"
    }
   ],
   "source": [
    "x_train[54, 12, 13, 1] "
   ]
  },
  {
   "cell_type": "markdown",
   "metadata": {},
   "source": [
    "# architecture"
   ]
  },
  {
   "cell_type": "code",
   "execution_count": 7,
   "metadata": {},
   "outputs": [],
   "source": [
    "input_layer = Input(shape=(32,32,3))\n",
    "\n",
    "conv_layer_1 = Conv2D(\n",
    "    filters = 10\n",
    "    , kernel_size = (4,4)\n",
    "    , strides = 2\n",
    "    , padding = 'same'\n",
    "    )(input_layer)\n",
    "\n",
    "conv_layer_2 = Conv2D(\n",
    "    filters = 20\n",
    "    , kernel_size = (3,3)\n",
    "    , strides = 2\n",
    "    , padding = 'same'\n",
    "    )(conv_layer_1)\n",
    "\n",
    "flatten_layer = Flatten()(conv_layer_2)\n",
    "\n",
    "output_layer = Dense(units=10, activation = 'softmax')(flatten_layer)\n",
    "\n",
    "model = Model(input_layer, output_layer)"
   ]
  },
  {
   "cell_type": "code",
   "execution_count": 8,
   "metadata": {},
   "outputs": [
    {
     "name": "stdout",
     "output_type": "stream",
     "text": [
      "Model: \"model_1\"\n",
      "_________________________________________________________________\n",
      "Layer (type)                 Output Shape              Param #   \n",
      "=================================================================\n",
      "input_1 (InputLayer)         (None, 32, 32, 3)         0         \n",
      "_________________________________________________________________\n",
      "conv2d_1 (Conv2D)            (None, 16, 16, 10)        490       \n",
      "_________________________________________________________________\n",
      "conv2d_2 (Conv2D)            (None, 8, 8, 20)          1820      \n",
      "_________________________________________________________________\n",
      "flatten_1 (Flatten)          (None, 1280)              0         \n",
      "_________________________________________________________________\n",
      "dense_1 (Dense)              (None, 10)                12810     \n",
      "=================================================================\n",
      "Total params: 15,120\n",
      "Trainable params: 15,120\n",
      "Non-trainable params: 0\n",
      "_________________________________________________________________\n"
     ]
    }
   ],
   "source": [
    "model.summary()"
   ]
  },
  {
   "cell_type": "code",
   "execution_count": 9,
   "metadata": {},
   "outputs": [],
   "source": [
    "input_layer = Input((32,32,3))\n",
    "\n",
    "x = Conv2D(filters = 32, kernel_size = 3, strides = 1, padding = 'same')(input_layer)\n",
    "x = BatchNormalization()(x)\n",
    "x = LeakyReLU()(x)\n",
    "\n",
    "\n",
    "x = Conv2D(filters = 32, kernel_size = 3, strides = 2, padding = 'same')(x)\n",
    "x = BatchNormalization()(x)\n",
    "x = LeakyReLU()(x)\n",
    "\n",
    "\n",
    "x = Conv2D(filters = 64, kernel_size = 3, strides = 1, padding = 'same')(x)\n",
    "x = BatchNormalization()(x)\n",
    "x = LeakyReLU()(x)\n",
    "\n",
    "\n",
    "x = Conv2D(filters = 64, kernel_size = 3, strides = 2, padding = 'same')(x)\n",
    "x = BatchNormalization()(x)\n",
    "x = LeakyReLU()(x)\n",
    "\n",
    "\n",
    "x = Flatten()(x)\n",
    "\n",
    "x = Dense(128)(x)\n",
    "x = BatchNormalization()(x)\n",
    "x = LeakyReLU()(x)\n",
    "x = Dropout(rate = 0.5)(x)\n",
    "\n",
    "x = Dense(NUM_CLASSES)(x)\n",
    "output_layer = Activation('softmax')(x)\n",
    "\n",
    "model = Model(input_layer, output_layer)"
   ]
  },
  {
   "cell_type": "code",
   "execution_count": 10,
   "metadata": {},
   "outputs": [
    {
     "name": "stdout",
     "output_type": "stream",
     "text": [
      "Model: \"model_2\"\n",
      "_________________________________________________________________\n",
      "Layer (type)                 Output Shape              Param #   \n",
      "=================================================================\n",
      "input_2 (InputLayer)         (None, 32, 32, 3)         0         \n",
      "_________________________________________________________________\n",
      "conv2d_3 (Conv2D)            (None, 32, 32, 32)        896       \n",
      "_________________________________________________________________\n",
      "batch_normalization_1 (Batch (None, 32, 32, 32)        128       \n",
      "_________________________________________________________________\n",
      "leaky_re_lu_1 (LeakyReLU)    (None, 32, 32, 32)        0         \n",
      "_________________________________________________________________\n",
      "conv2d_4 (Conv2D)            (None, 16, 16, 32)        9248      \n",
      "_________________________________________________________________\n",
      "batch_normalization_2 (Batch (None, 16, 16, 32)        128       \n",
      "_________________________________________________________________\n",
      "leaky_re_lu_2 (LeakyReLU)    (None, 16, 16, 32)        0         \n",
      "_________________________________________________________________\n",
      "conv2d_5 (Conv2D)            (None, 16, 16, 64)        18496     \n",
      "_________________________________________________________________\n",
      "batch_normalization_3 (Batch (None, 16, 16, 64)        256       \n",
      "_________________________________________________________________\n",
      "leaky_re_lu_3 (LeakyReLU)    (None, 16, 16, 64)        0         \n",
      "_________________________________________________________________\n",
      "conv2d_6 (Conv2D)            (None, 8, 8, 64)          36928     \n",
      "_________________________________________________________________\n",
      "batch_normalization_4 (Batch (None, 8, 8, 64)          256       \n",
      "_________________________________________________________________\n",
      "leaky_re_lu_4 (LeakyReLU)    (None, 8, 8, 64)          0         \n",
      "_________________________________________________________________\n",
      "flatten_2 (Flatten)          (None, 4096)              0         \n",
      "_________________________________________________________________\n",
      "dense_2 (Dense)              (None, 128)               524416    \n",
      "_________________________________________________________________\n",
      "batch_normalization_5 (Batch (None, 128)               512       \n",
      "_________________________________________________________________\n",
      "leaky_re_lu_5 (LeakyReLU)    (None, 128)               0         \n",
      "_________________________________________________________________\n",
      "dropout_1 (Dropout)          (None, 128)               0         \n",
      "_________________________________________________________________\n",
      "dense_3 (Dense)              (None, 10)                1290      \n",
      "_________________________________________________________________\n",
      "activation_1 (Activation)    (None, 10)                0         \n",
      "=================================================================\n",
      "Total params: 592,554\n",
      "Trainable params: 591,914\n",
      "Non-trainable params: 640\n",
      "_________________________________________________________________\n"
     ]
    }
   ],
   "source": [
    "model.summary()"
   ]
  },
  {
   "cell_type": "markdown",
   "metadata": {},
   "source": [
    "# train"
   ]
  },
  {
   "cell_type": "code",
   "execution_count": 11,
   "metadata": {},
   "outputs": [],
   "source": [
    "opt = Adam(lr=0.0005)\n",
    "model.compile(loss='categorical_crossentropy', optimizer=opt, metrics=['accuracy'])"
   ]
  },
  {
   "cell_type": "code",
   "execution_count": 12,
   "metadata": {},
   "outputs": [
    {
     "name": "stdout",
     "output_type": "stream",
     "text": [
      "Train on 50000 samples, validate on 10000 samples\n",
      "Epoch 1/10\n",
      "50000/50000 [==============================] - 34s 678us/step - loss: 1.5550 - accuracy: 0.4576 - val_loss: 1.3700 - val_accuracy: 0.5179\n",
      "Epoch 2/10\n",
      "50000/50000 [==============================] - 30s 597us/step - loss: 1.1796 - accuracy: 0.5868 - val_loss: 1.0101 - val_accuracy: 0.6417\n",
      "Epoch 3/10\n",
      "50000/50000 [==============================] - 30s 597us/step - loss: 1.0146 - accuracy: 0.6456 - val_loss: 1.0232 - val_accuracy: 0.6375\n",
      "Epoch 4/10\n",
      "50000/50000 [==============================] - 30s 592us/step - loss: 0.9196 - accuracy: 0.6798 - val_loss: 0.9174 - val_accuracy: 0.6791\n",
      "Epoch 5/10\n",
      "50000/50000 [==============================] - 29s 586us/step - loss: 0.8594 - accuracy: 0.7010 - val_loss: 1.0549 - val_accuracy: 0.6375\n",
      "Epoch 6/10\n",
      "50000/50000 [==============================] - 29s 590us/step - loss: 0.8064 - accuracy: 0.7188 - val_loss: 0.8145 - val_accuracy: 0.7129\n",
      "Epoch 7/10\n",
      "50000/50000 [==============================] - 30s 593us/step - loss: 0.7636 - accuracy: 0.7328 - val_loss: 0.9372 - val_accuracy: 0.6768\n",
      "Epoch 8/10\n",
      "50000/50000 [==============================] - 30s 595us/step - loss: 0.7225 - accuracy: 0.7464 - val_loss: 0.8127 - val_accuracy: 0.7222\n",
      "Epoch 9/10\n",
      "50000/50000 [==============================] - 29s 589us/step - loss: 0.6903 - accuracy: 0.7586 - val_loss: 0.8044 - val_accuracy: 0.7241\n",
      "Epoch 10/10\n",
      "50000/50000 [==============================] - 30s 596us/step - loss: 0.6573 - accuracy: 0.7706 - val_loss: 1.0669 - val_accuracy: 0.6422\n"
     ]
    },
    {
     "data": {
      "text/plain": [
       "<keras.callbacks.callbacks.History at 0x7fb85f1acb90>"
      ]
     },
     "execution_count": 12,
     "metadata": {},
     "output_type": "execute_result"
    }
   ],
   "source": [
    "model.fit(x_train\n",
    "          , y_train\n",
    "          , batch_size=32\n",
    "          , epochs=10\n",
    "          , shuffle=True\n",
    "          , validation_data = (x_test, y_test))"
   ]
  },
  {
   "cell_type": "code",
   "execution_count": 13,
   "metadata": {},
   "outputs": [
    {
     "data": {
      "text/plain": [
       "[<keras.engine.input_layer.InputLayer at 0x7fb8c21daa10>,\n",
       " <keras.layers.convolutional.Conv2D at 0x7fb8c21daf90>,\n",
       " <keras.layers.normalization.BatchNormalization at 0x7fb8c21dab10>,\n",
       " <keras.layers.advanced_activations.LeakyReLU at 0x7fb8b83cde90>,\n",
       " <keras.layers.convolutional.Conv2D at 0x7fb8c21dae90>,\n",
       " <keras.layers.normalization.BatchNormalization at 0x7fb8b83cdfd0>,\n",
       " <keras.layers.advanced_activations.LeakyReLU at 0x7fb8b8385fd0>,\n",
       " <keras.layers.convolutional.Conv2D at 0x7fb8b837e710>,\n",
       " <keras.layers.normalization.BatchNormalization at 0x7fb8b83e4a90>,\n",
       " <keras.layers.advanced_activations.LeakyReLU at 0x7fb8b8347dd0>,\n",
       " <keras.layers.convolutional.Conv2D at 0x7fb8b8354290>,\n",
       " <keras.layers.normalization.BatchNormalization at 0x7fb8b834c690>,\n",
       " <keras.layers.advanced_activations.LeakyReLU at 0x7fb8b830d410>,\n",
       " <keras.layers.core.Flatten at 0x7fb8b8368ed0>,\n",
       " <keras.layers.core.Dense at 0x7fb8b8306a90>,\n",
       " <keras.layers.normalization.BatchNormalization at 0x7fb8b832d310>,\n",
       " <keras.layers.advanced_activations.LeakyReLU at 0x7fb8b82bd510>,\n",
       " <keras.layers.core.Dropout at 0x7fb8b8326950>,\n",
       " <keras.layers.core.Dense at 0x7fb8b82eb410>,\n",
       " <keras.layers.core.Activation at 0x7fb8b82e5e10>]"
      ]
     },
     "execution_count": 13,
     "metadata": {},
     "output_type": "execute_result"
    }
   ],
   "source": [
    "model.layers"
   ]
  },
  {
   "cell_type": "code",
   "execution_count": 14,
   "metadata": {},
   "outputs": [
    {
     "data": {
      "text/plain": [
       "[array([[[[ 5.95901497e-02, -6.38489574e-02, -1.62520800e-02, ...,\n",
       "            1.51689857e-01,  3.07087339e-02,  3.58712785e-02],\n",
       "          [ 1.11138478e-01,  5.97337447e-03, -4.76558059e-02, ...,\n",
       "           -4.32699434e-02, -8.94079357e-02, -1.57233253e-01],\n",
       "          [-9.44307223e-02,  1.48057640e-01, -6.20037504e-02, ...,\n",
       "           -5.77738360e-02,  1.08518697e-01,  1.53498009e-01],\n",
       "          ...,\n",
       "          [ 3.12019046e-02,  8.23811963e-02, -2.16975790e-02, ...,\n",
       "            8.97965133e-02,  4.04808065e-03,  6.89935386e-02],\n",
       "          [ 5.13933413e-02, -7.09492266e-02, -1.75390244e-01, ...,\n",
       "           -1.71169207e-01,  1.54774308e-01, -8.82542804e-02],\n",
       "          [-9.59333256e-02,  4.88964245e-02,  1.48176923e-02, ...,\n",
       "            1.01355650e-01,  5.78216538e-02, -8.75730440e-02]],\n",
       " \n",
       "         [[ 6.53148070e-03,  7.17665181e-02,  1.07171118e-01, ...,\n",
       "           -4.93690707e-02,  1.76735684e-01,  9.16404128e-02],\n",
       "          [ 8.14346150e-02,  7.30435774e-02, -7.70744011e-02, ...,\n",
       "           -2.56611351e-02, -7.12017789e-02, -1.44478187e-01],\n",
       "          [-8.74569714e-02, -5.99472746e-02,  4.79086637e-02, ...,\n",
       "            3.40998620e-02, -4.91043041e-03,  1.04457423e-01],\n",
       "          ...,\n",
       "          [-8.69828984e-02,  1.34070897e-02, -1.99653003e-02, ...,\n",
       "           -5.28149493e-02,  1.09039374e-01,  6.20548911e-02],\n",
       "          [ 8.35194215e-02, -5.92419170e-02,  2.21288964e-01, ...,\n",
       "           -1.56942368e-01, -1.29741266e-01,  1.16698267e-02],\n",
       "          [-2.87190806e-02, -2.36330871e-02,  1.83249768e-02, ...,\n",
       "            2.30106199e-03,  3.47046256e-02, -6.53445721e-02]],\n",
       " \n",
       "         [[ 5.39208427e-02,  9.62340385e-02, -1.48241922e-01, ...,\n",
       "            5.23249852e-03,  7.09930956e-02, -4.81576547e-02],\n",
       "          [ 1.23530366e-01,  8.95308703e-02, -1.60161220e-02, ...,\n",
       "           -1.00925513e-01, -3.64087448e-02, -3.47081535e-02],\n",
       "          [-7.63271227e-02,  2.21842509e-02,  2.48629192e-04, ...,\n",
       "           -1.03327312e-01, -4.80701514e-02, -2.27492563e-02],\n",
       "          ...,\n",
       "          [ 2.32985653e-02, -6.36875704e-02,  8.26644152e-02, ...,\n",
       "            8.06163922e-02,  5.05282395e-02,  8.54051784e-02],\n",
       "          [ 9.12422463e-02, -4.71128188e-02,  1.54982414e-02, ...,\n",
       "            1.67685971e-01,  4.46343012e-02, -1.61621831e-02],\n",
       "          [ 4.09837924e-02, -3.46470885e-02, -8.81648362e-02, ...,\n",
       "            1.02523029e-01,  2.78745610e-02,  9.32478067e-03]]],\n",
       " \n",
       " \n",
       "        [[[-6.07758015e-02, -2.59469654e-02, -9.45684984e-02, ...,\n",
       "           -4.95299734e-02,  9.64788198e-02,  1.00429550e-01],\n",
       "          [-4.02021892e-02, -5.78037638e-04, -4.00348268e-02, ...,\n",
       "           -2.76457686e-02,  1.30295157e-01, -1.93202496e-02],\n",
       "          [-1.68082025e-02,  1.65975109e-01, -5.79083785e-02, ...,\n",
       "            4.99555618e-02,  1.67567849e-01,  6.10837452e-02],\n",
       "          ...,\n",
       "          [-1.59984338e-03, -5.36913797e-02,  3.93209942e-02, ...,\n",
       "            9.36813131e-02,  4.53575365e-02,  6.47586510e-02],\n",
       "          [ 1.57894254e-01,  1.44284323e-01, -2.72718221e-01, ...,\n",
       "           -2.09316492e-01,  2.12761506e-01, -1.82770655e-01],\n",
       "          [ 1.14961758e-01, -5.31981373e-03, -1.44458339e-02, ...,\n",
       "            4.59585935e-02,  4.22182307e-02, -2.34339144e-02]],\n",
       " \n",
       "         [[-5.34725599e-02, -4.05308083e-02, -3.47347632e-02, ...,\n",
       "           -5.11472635e-02, -1.65614873e-01,  6.71096891e-02],\n",
       "          [ 1.00719474e-01,  1.64367743e-02,  1.41497612e-01, ...,\n",
       "            6.66253194e-02,  4.52323668e-02, -1.41513005e-01],\n",
       "          [ 2.36136578e-02, -6.23616949e-02, -1.24635816e-01, ...,\n",
       "            2.46668048e-03,  6.63924962e-02,  1.09823748e-01],\n",
       "          ...,\n",
       "          [-6.90196529e-02,  1.33782342e-01, -4.26452458e-02, ...,\n",
       "            4.95429151e-02,  5.13490923e-02,  1.20786822e-03],\n",
       "          [ 1.72556385e-01,  6.12660088e-02,  2.70373877e-02, ...,\n",
       "           -2.10747831e-02,  9.14755166e-02, -2.60540079e-02],\n",
       "          [ 4.24769998e-04,  3.79023254e-02, -2.28938903e-03, ...,\n",
       "            1.46831572e-02,  1.33204609e-02,  7.77661055e-02]],\n",
       " \n",
       "         [[-1.11237913e-03, -4.03030170e-03, -4.42590341e-02, ...,\n",
       "            4.81630005e-02,  3.31218131e-02, -1.75888732e-01],\n",
       "          [-3.34491991e-02, -2.34068967e-02,  1.01692468e-01, ...,\n",
       "           -7.44665191e-02,  1.29801363e-01, -1.10467814e-01],\n",
       "          [ 6.48383498e-02,  6.95021600e-02,  1.95371300e-01, ...,\n",
       "           -6.96106404e-02, -3.06898877e-02,  8.91893655e-02],\n",
       "          ...,\n",
       "          [ 1.17999256e-01, -1.23577043e-01, -7.22571313e-02, ...,\n",
       "           -4.38068137e-02, -2.89477129e-02, -7.15340599e-02],\n",
       "          [-3.67439054e-02,  1.83950543e-01,  2.34477744e-01, ...,\n",
       "           -7.22365603e-02,  1.78651381e-02, -1.00768797e-01],\n",
       "          [ 3.95757817e-02,  1.35838300e-01,  1.47479540e-02, ...,\n",
       "           -6.37442470e-02,  1.17192775e-01, -1.59192786e-01]]],\n",
       " \n",
       " \n",
       "        [[[-5.34025533e-03, -3.74732949e-02, -2.78919395e-02, ...,\n",
       "           -4.76252008e-03, -4.45296243e-02,  1.20862134e-01],\n",
       "          [-2.08175345e-03, -1.26006501e-03,  6.11939542e-02, ...,\n",
       "            1.26852728e-02,  7.54306912e-02, -3.29368212e-03],\n",
       "          [ 2.87249545e-03,  1.05400361e-01, -1.07273005e-01, ...,\n",
       "           -1.48608361e-03, -1.87550336e-02,  3.96336913e-02],\n",
       "          ...,\n",
       "          [ 4.36000861e-02, -4.46521565e-02,  6.35379553e-02, ...,\n",
       "           -1.75645668e-02, -3.24665643e-02, -1.03509806e-01],\n",
       "          [ 1.43826708e-01, -2.01412350e-01, -2.11208656e-01, ...,\n",
       "           -7.07787126e-02,  1.51706887e-02, -4.88297902e-02],\n",
       "          [ 6.50798082e-02, -1.31262511e-01,  7.43891224e-02, ...,\n",
       "            7.39157721e-02, -4.76396829e-02, -2.92276219e-02]],\n",
       " \n",
       "         [[-8.73320997e-02, -8.11063275e-02,  8.94335937e-03, ...,\n",
       "           -9.86828730e-02, -7.63474032e-02, -4.32234630e-02],\n",
       "          [ 2.09098130e-01, -6.98703006e-02,  9.27026421e-02, ...,\n",
       "           -3.70240025e-02,  4.05925028e-02, -1.34876728e-01],\n",
       "          [ 1.50352105e-01, -2.29753971e-01, -1.40939489e-01, ...,\n",
       "           -6.62725270e-02, -5.30203730e-02,  1.07684962e-01],\n",
       "          ...,\n",
       "          [ 1.35592282e-01, -8.78613666e-02,  8.38321149e-02, ...,\n",
       "            6.50931746e-02,  5.46212643e-02, -1.11206248e-02],\n",
       "          [-9.78968292e-03,  1.02133525e-03, -3.61827433e-01, ...,\n",
       "            7.37690404e-02,  1.60642162e-01, -8.35097879e-02],\n",
       "          [ 4.53098230e-02,  7.32861310e-02, -9.76149887e-02, ...,\n",
       "           -1.03361621e-01,  1.72289349e-02, -1.00922704e-01]],\n",
       " \n",
       "         [[-7.52832601e-03, -5.18127531e-02,  4.63737771e-02, ...,\n",
       "            1.27280086e-01, -3.93377021e-02, -5.70997261e-02],\n",
       "          [ 6.20679110e-02, -8.80908370e-02,  1.07199021e-01, ...,\n",
       "            6.61929250e-02,  1.59996971e-01, -2.25643307e-01],\n",
       "          [ 2.49869749e-03, -7.25463033e-02, -1.52920289e-02, ...,\n",
       "           -4.29110555e-03, -1.99266627e-01,  8.12160000e-02],\n",
       "          ...,\n",
       "          [ 4.46305349e-02, -1.70323461e-01, -1.39725924e-01, ...,\n",
       "           -1.43111661e-01,  2.45735645e-02,  3.50444466e-02],\n",
       "          [-1.77660659e-01, -6.44744113e-02,  2.34363258e-01, ...,\n",
       "           -5.08859009e-02,  1.20492719e-01, -1.47053912e-01],\n",
       "          [ 5.45486212e-02,  7.66838789e-02,  2.57961378e-02, ...,\n",
       "            1.19072564e-01, -4.25373316e-02, -2.22393405e-02]]]],\n",
       "       dtype=float32),\n",
       " array([-5.0717564e-03, -1.1719350e-03,  3.4696388e-04,  5.2333008e-03,\n",
       "        -2.6833005e-03,  1.7283030e-03, -2.0966686e-03,  5.6781028e-03,\n",
       "         3.5772182e-03,  3.9296933e-03,  4.5234938e-03, -1.1391977e-03,\n",
       "        -5.3689262e-04, -1.2954461e-03, -1.3881944e-02,  1.5333480e-03,\n",
       "         2.5537796e-03, -9.7755692e-04,  2.6480630e-03,  5.1874922e-05,\n",
       "         1.1353069e-02, -1.0286867e-02,  2.6719892e-05, -5.5728350e-03,\n",
       "        -1.2449879e-04,  6.4926338e-03,  2.3686355e-03, -2.1837148e-04,\n",
       "         1.3618121e-02,  1.9315425e-03, -2.9269864e-03, -4.7497605e-03],\n",
       "       dtype=float32)]"
      ]
     },
     "execution_count": 14,
     "metadata": {},
     "output_type": "execute_result"
    }
   ],
   "source": [
    "model.layers[4].get_weights()"
   ]
  },
  {
   "cell_type": "markdown",
   "metadata": {},
   "source": [
    "# analysis"
   ]
  },
  {
   "cell_type": "code",
   "execution_count": 15,
   "metadata": {},
   "outputs": [
    {
     "name": "stdout",
     "output_type": "stream",
     "text": [
      "10000/10000 [==============================] - 1s 108us/step\n"
     ]
    },
    {
     "data": {
      "text/plain": [
       "[1.066862666606903, 0.6421999931335449]"
      ]
     },
     "execution_count": 15,
     "metadata": {},
     "output_type": "execute_result"
    }
   ],
   "source": [
    "model.evaluate(x_test, y_test, batch_size=1000)"
   ]
  },
  {
   "cell_type": "code",
   "execution_count": 16,
   "metadata": {},
   "outputs": [],
   "source": [
    "CLASSES = np.array(['airplane', 'automobile', 'bird', 'cat', 'deer', 'dog', 'frog', 'horse', 'ship', 'truck'])\n",
    "\n",
    "preds = model.predict(x_test)\n",
    "preds_single = CLASSES[np.argmax(preds, axis = -1)]\n",
    "actual_single = CLASSES[np.argmax(y_test, axis = -1)]"
   ]
  },
  {
   "cell_type": "code",
   "execution_count": 17,
   "metadata": {},
   "outputs": [
    {
     "data": {
      "image/png": "[encoded data removed]",
      "text/plain": [
       "<Figure size 1080x216 with 10 Axes>"
      ]
     },
     "metadata": {
      "needs_background": "light"
     },
     "output_type": "display_data"
    }
   ],
   "source": [
    "import matplotlib.pyplot as plt\n",
    "\n",
    "n_to_show = 10\n",
    "indices = np.random.choice(range(len(x_test)), n_to_show)\n",
    "\n",
    "fig = plt.figure(figsize=(15, 3))\n",
    "fig.subplots_adjust(hspace=0.4, wspace=0.4)\n",
    "\n",
    "for i, idx in enumerate(indices):\n",
    "    img = x_test[idx]\n",
    "    ax = fig.add_subplot(1, n_to_show, i+1)\n",
    "    ax.axis('off')\n",
    "    ax.text(0.5, -0.35, 'pred = ' + str(preds_single[idx]), fontsize=10, ha='center', transform=ax.transAxes) \n",
    "    ax.text(0.5, -0.7, 'act = ' + str(actual_single[idx]), fontsize=10, ha='center', transform=ax.transAxes)\n",
    "    ax.imshow(img)\n"
   ]
  }
 ],
 "metadata": {
  "kernelspec": {
   "display_name": "Python 3",
   "language": "python",
   "name": "python3"
  },
  "language_info": {
   "codemirror_mode": {
    "name": "ipython",
    "version": 3
   },
   "file_extension": ".py",
   "mimetype": "text/x-python",
   "name": "python",
   "nbconvert_exporter": "python",
   "pygments_lexer": "ipython3",
   "version": "3.7.6"
  }
 },
 "nbformat": 4,
 "nbformat_minor": 4
}
